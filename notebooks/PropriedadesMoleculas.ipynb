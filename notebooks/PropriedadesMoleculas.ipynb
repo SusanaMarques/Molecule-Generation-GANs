{
 "cells": [
  {
   "cell_type": "markdown",
   "id": "XsJfjQKuE5p0",
   "metadata": {
    "id": "XsJfjQKuE5p0"
   },
   "source": [
    "## Notebook otimizado para ser executado na plataforma https://colab.research.google.com/notebooks/intro.ipynb#recent=true"
   ]
  },
  {
   "cell_type": "markdown",
   "id": "mvrIWqYqOmIp",
   "metadata": {
    "id": "mvrIWqYqOmIp"
   },
   "source": [
    "# Instalações"
   ]
  },
  {
   "cell_type": "code",
   "execution_count": null,
   "id": "_-VkPvLOJlw6",
   "metadata": {
    "id": "_-VkPvLOJlw6"
   },
   "outputs": [],
   "source": [
    "!apt-get update\n",
    "!apt-get install python3.7"
   ]
  },
  {
   "cell_type": "code",
   "execution_count": null,
   "id": "7tpF6X_6Lq-M",
   "metadata": {
    "id": "7tpF6X_6Lq-M"
   },
   "outputs": [],
   "source": [
    "!which python # should return /usr/local/bin/python"
   ]
  },
  {
   "cell_type": "code",
   "execution_count": null,
   "id": "zuIaKkUZLwSJ",
   "metadata": {
    "id": "zuIaKkUZLwSJ"
   },
   "outputs": [],
   "source": [
    "!python --version"
   ]
  },
  {
   "cell_type": "code",
   "execution_count": null,
   "id": "5WILUKTTL4rL",
   "metadata": {
    "id": "5WILUKTTL4rL"
   },
   "outputs": [],
   "source": [
    "!echo $PYTHONPATH"
   ]
  },
  {
   "cell_type": "code",
   "execution_count": null,
   "id": "MFqtYRdyMBdV",
   "metadata": {
    "id": "MFqtYRdyMBdV"
   },
   "outputs": [],
   "source": [
    "%env PYTHONPATH="
   ]
  },
  {
   "cell_type": "code",
   "execution_count": null,
   "id": "Q9EHarXrMQVw",
   "metadata": {
    "id": "Q9EHarXrMQVw"
   },
   "outputs": [],
   "source": [
    "%%bash\n",
    "MINICONDA_INSTALLER_SCRIPT=Miniconda3-4.5.12-Linux-x86_64.sh\n",
    "MINICONDA_PREFIX=/usr/local\n",
    "wget https://repo.continuum.io/miniconda/$MINICONDA_INSTALLER_SCRIPT\n",
    "chmod +x $MINICONDA_INSTALLER_SCRIPT\n",
    "./$MINICONDA_INSTALLER_SCRIPT -b -f -p $MINICONDA_PREFIX"
   ]
  },
  {
   "cell_type": "code",
   "execution_count": null,
   "id": "LoknN5pWMcZ5",
   "metadata": {
    "id": "LoknN5pWMcZ5"
   },
   "outputs": [],
   "source": [
    "!which conda # should return /usr/local/bin/conda"
   ]
  },
  {
   "cell_type": "code",
   "execution_count": null,
   "id": "zU9awUppMdZO",
   "metadata": {
    "id": "zU9awUppMdZO"
   },
   "outputs": [],
   "source": [
    "!conda --version # should return 4.5.4"
   ]
  },
  {
   "cell_type": "code",
   "execution_count": null,
   "id": "gv-Qp9y2MhOT",
   "metadata": {
    "id": "gv-Qp9y2MhOT"
   },
   "outputs": [],
   "source": [
    "!which python # still returns /usr/local/bin/python"
   ]
  },
  {
   "cell_type": "code",
   "execution_count": null,
   "id": "eZ8Rv841Mltd",
   "metadata": {
    "id": "eZ8Rv841Mltd"
   },
   "outputs": [],
   "source": [
    "!python --version # now returns Python 3.6.5 :: Anaconda, Inc."
   ]
  },
  {
   "cell_type": "code",
   "execution_count": null,
   "id": "CB0iyjduMqTJ",
   "metadata": {
    "id": "CB0iyjduMqTJ"
   },
   "outputs": [],
   "source": [
    "%%bash\n",
    "conda install --channel defaults conda python=3.7 --yes\n",
    "conda update --channel defaults --all --yes"
   ]
  },
  {
   "cell_type": "code",
   "execution_count": null,
   "id": "0CcpLvZVM4BU",
   "metadata": {
    "id": "0CcpLvZVM4BU"
   },
   "outputs": [],
   "source": [
    "!conda --version # now returns 4.8.3"
   ]
  },
  {
   "cell_type": "code",
   "execution_count": null,
   "id": "WlYu13pvM77J",
   "metadata": {
    "id": "WlYu13pvM77J"
   },
   "outputs": [],
   "source": [
    "!python --version # now returns Python 3.6.10 :: Anaconda, Inc.\n"
   ]
  },
  {
   "cell_type": "code",
   "execution_count": null,
   "id": "Fdr2K5dvNEVc",
   "metadata": {
    "id": "Fdr2K5dvNEVc"
   },
   "outputs": [],
   "source": [
    "import sys\n",
    "sys.path\n",
    "['',  \n",
    " '/env/python',\n",
    " '/usr/lib/python37.zip',\n",
    " '/usr/lib/python3.7',\n",
    " '/usr/lib/python3.7/lib-dynload',\n",
    " '/usr/local/lib/python3.7/dist-packages', # pre-installed packages\n",
    " '/usr/lib/python3/dist-packages',\n",
    " '/usr/local/lib/python3.7/dist-packages/IPython/extensions',\n",
    " '/root/.ipython']"
   ]
  },
  {
   "cell_type": "code",
   "execution_count": null,
   "id": "nSV6RpiHNM8s",
   "metadata": {
    "id": "nSV6RpiHNM8s"
   },
   "outputs": [],
   "source": [
    "!ls /usr/local/lib/python3.7/dist-packages\n"
   ]
  },
  {
   "cell_type": "code",
   "execution_count": 16,
   "id": "Iz_0yqDcNRMr",
   "metadata": {
    "executionInfo": {
     "elapsed": 65774,
     "status": "ok",
     "timestamp": 1620511951337,
     "user": {
      "displayName": "Bruno Santos",
      "photoUrl": "",
      "userId": "08605551310692069158"
     },
     "user_tz": -60
    },
    "id": "Iz_0yqDcNRMr"
   },
   "outputs": [],
   "source": [
    "import sys\n",
    "_ = (sys.path\n",
    "        .append(\"/usr/local/lib/python3.7/site-packages\"))"
   ]
  },
  {
   "cell_type": "code",
   "execution_count": null,
   "id": "kSFxpvEKNUoQ",
   "metadata": {
    "id": "kSFxpvEKNUoQ"
   },
   "outputs": [],
   "source": [
    "!conda install --channel conda-forge featuretools --yes"
   ]
  },
  {
   "cell_type": "code",
   "execution_count": null,
   "id": "26xRiu_CNjg0",
   "metadata": {
    "id": "26xRiu_CNjg0"
   },
   "outputs": [],
   "source": [
    "!conda install -c rdkit rdkit\n",
    "\n",
    "!conda install -c conda-forge scikit-learn \n",
    "!conda install -c conda-forge matplotlib\n",
    "\n",
    "##Deep Learning part\n",
    "##install keras\n",
    "!conda install -c conda-forge keras"
   ]
  },
  {
   "cell_type": "markdown",
   "id": "KHxU2jshQrur",
   "metadata": {
    "id": "KHxU2jshQrur"
   },
   "source": [
    "# Introdução"
   ]
  },
  {
   "cell_type": "code",
   "execution_count": 19,
   "id": "c8666810",
   "metadata": {
    "executionInfo": {
     "elapsed": 405,
     "status": "ok",
     "timestamp": 1620512681108,
     "user": {
      "displayName": "Bruno Santos",
      "photoUrl": "",
      "userId": "08605551310692069158"
     },
     "user_tz": -60
    },
    "id": "c8666810"
   },
   "outputs": [],
   "source": [
    "from rdkit import Chem\n",
    "from rdkit import rdBase\n",
    "rdBase.DisableLog('rdApp.error')\n",
    "\n",
    "from IPython.display import SVG\n",
    "from  IPython.display import Image as displayImage\n",
    "import io\n",
    "from PIL import Image\n",
    "import numpy as np\n",
    "import pandas as pd\n",
    "import random\n",
    "\n",
    "random.seed(1)\n",
    "np.random.seed(1)"
   ]
  },
  {
   "cell_type": "markdown",
   "id": "42051d21",
   "metadata": {
    "id": "42051d21"
   },
   "source": [
    "SMILES is a notation language for representing molecules as sequences of characters."
   ]
  },
  {
   "cell_type": "code",
   "execution_count": 20,
   "id": "a868b886",
   "metadata": {
    "colab": {
     "base_uri": "https://localhost:8080/",
     "height": 35
    },
    "executionInfo": {
     "elapsed": 839,
     "status": "ok",
     "timestamp": 1620512681550,
     "user": {
      "displayName": "Bruno Santos",
      "photoUrl": "",
      "userId": "08605551310692069158"
     },
     "user_tz": -60
    },
    "id": "a868b886",
    "outputId": "cd9223bd-e133-4a86-dff2-9e4590f1514c"
   },
   "outputs": [
    {
     "data": {
      "application/vnd.google.colaboratory.intrinsic+json": {
       "type": "string"
      },
      "text/plain": [
       "'ClCCCO'"
      ]
     },
     "execution_count": 20,
     "metadata": {
      "tags": []
     },
     "output_type": "execute_result"
    }
   ],
   "source": [
    "SMILES = \"ClCCCO\"\n",
    "SMILES"
   ]
  },
  {
   "cell_type": "markdown",
   "id": "8e2900be",
   "metadata": {
    "id": "8e2900be"
   },
   "source": [
    "canonização de um smiles. Canonicalization is a process for converting data that has more than one possible representation into a \"standard\", \"normal\", or canonical form. "
   ]
  },
  {
   "cell_type": "code",
   "execution_count": 21,
   "id": "cae543fa",
   "metadata": {
    "colab": {
     "base_uri": "https://localhost:8080/"
    },
    "executionInfo": {
     "elapsed": 834,
     "status": "ok",
     "timestamp": 1620512681551,
     "user": {
      "displayName": "Bruno Santos",
      "photoUrl": "",
      "userId": "08605551310692069158"
     },
     "user_tz": -60
    },
    "id": "cae543fa",
    "outputId": "d3808de2-3dc5-465b-9c43-01f9bdb8c1c8"
   },
   "outputs": [
    {
     "data": {
      "text/plain": [
       "<rdkit.Chem.rdchem.Mol at 0x7efc51c67670>"
      ]
     },
     "execution_count": 21,
     "metadata": {
      "tags": []
     },
     "output_type": "execute_result"
    }
   ],
   "source": [
    "Chem.MolFromSmiles( \"ClCCCO\" )"
   ]
  },
  {
   "cell_type": "markdown",
   "id": "634ffc0c",
   "metadata": {
    "id": "634ffc0c"
   },
   "source": [
    "### Converter smiles para um objeto mol"
   ]
  },
  {
   "cell_type": "code",
   "execution_count": 22,
   "id": "29fafc25",
   "metadata": {
    "executionInfo": {
     "elapsed": 830,
     "status": "ok",
     "timestamp": 1620512681552,
     "user": {
      "displayName": "Bruno Santos",
      "photoUrl": "",
      "userId": "08605551310692069158"
     },
     "user_tz": -60
    },
    "id": "29fafc25"
   },
   "outputs": [],
   "source": [
    "mol = Chem.MolFromSmiles( \"ClCCCO\" )\n"
   ]
  },
  {
   "cell_type": "markdown",
   "id": "b997b1fd",
   "metadata": {
    "id": "b997b1fd"
   },
   "source": [
    "### Converter o objeto mol de volta para um smile"
   ]
  },
  {
   "cell_type": "code",
   "execution_count": 23,
   "id": "70690798",
   "metadata": {
    "colab": {
     "base_uri": "https://localhost:8080/",
     "height": 35
    },
    "executionInfo": {
     "elapsed": 827,
     "status": "ok",
     "timestamp": 1620512681554,
     "user": {
      "displayName": "Bruno Santos",
      "photoUrl": "",
      "userId": "08605551310692069158"
     },
     "user_tz": -60
    },
    "id": "70690798",
    "outputId": "297c34f6-540a-40f5-a237-35d55e0e3082"
   },
   "outputs": [
    {
     "data": {
      "application/vnd.google.colaboratory.intrinsic+json": {
       "type": "string"
      },
      "text/plain": [
       "'OCCCCl'"
      ]
     },
     "execution_count": 23,
     "metadata": {
      "tags": []
     },
     "output_type": "execute_result"
    }
   ],
   "source": [
    "Chem.MolToSmiles( mol, canonical=True )"
   ]
  },
  {
   "cell_type": "markdown",
   "id": "2bb3502e",
   "metadata": {
    "id": "2bb3502e"
   },
   "source": [
    "# Propriedades\n",
    "É preciso converter o smiles para o objeto mol. Uma vez que as funções sobre as propriedades trabalham sobre o objeto mol"
   ]
  },
  {
   "cell_type": "code",
   "execution_count": 24,
   "id": "db9c5848",
   "metadata": {
    "executionInfo": {
     "elapsed": 596,
     "status": "ok",
     "timestamp": 1620512692641,
     "user": {
      "displayName": "Bruno Santos",
      "photoUrl": "",
      "userId": "08605551310692069158"
     },
     "user_tz": -60
    },
    "id": "db9c5848"
   },
   "outputs": [],
   "source": [
    "from rdkit.Chem import Descriptors"
   ]
  },
  {
   "cell_type": "markdown",
   "id": "2f10c51f",
   "metadata": {
    "id": "2f10c51f"
   },
   "source": [
    "### Peso molecular"
   ]
  },
  {
   "cell_type": "code",
   "execution_count": 25,
   "id": "a3dd2a9a",
   "metadata": {
    "colab": {
     "base_uri": "https://localhost:8080/"
    },
    "executionInfo": {
     "elapsed": 585,
     "status": "ok",
     "timestamp": 1620512692643,
     "user": {
      "displayName": "Bruno Santos",
      "photoUrl": "",
      "userId": "08605551310692069158"
     },
     "user_tz": -60
    },
    "id": "a3dd2a9a",
    "outputId": "c23c32be-151b-4fec-a8c0-41b21c7ea9f6"
   },
   "outputs": [
    {
     "name": "stdout",
     "output_type": "stream",
     "text": [
      "Molecular Weight:\t 94.018542524\n"
     ]
    }
   ],
   "source": [
    "molWeight = Descriptors.ExactMolWt( mol )\n",
    "print(\"Molecular Weight:\\t\", molWeight)"
   ]
  },
  {
   "cell_type": "markdown",
   "id": "1ebb8e7a",
   "metadata": {
    "id": "1ebb8e7a"
   },
   "source": [
    "### Solubilidade"
   ]
  },
  {
   "cell_type": "code",
   "execution_count": 26,
   "id": "006ffe68",
   "metadata": {
    "colab": {
     "base_uri": "https://localhost:8080/"
    },
    "executionInfo": {
     "elapsed": 580,
     "status": "ok",
     "timestamp": 1620512692645,
     "user": {
      "displayName": "Bruno Santos",
      "photoUrl": "",
      "userId": "08605551310692069158"
     },
     "user_tz": -60
    },
    "id": "006ffe68",
    "outputId": "ccc37ea9-b3e8-471b-c3c6-6a6cbe4ab55b"
   },
   "outputs": [
    {
     "name": "stdout",
     "output_type": "stream",
     "text": [
      "Solubility:\t\t 0.6075999999999999\n"
     ]
    }
   ],
   "source": [
    "logP = Descriptors.MolLogP( mol )\n",
    "print(\"Solubility:\\t\\t\", logP)"
   ]
  },
  {
   "cell_type": "markdown",
   "id": "9474ffbc",
   "metadata": {
    "id": "9474ffbc"
   },
   "source": [
    "### Area de superficies polar"
   ]
  },
  {
   "cell_type": "code",
   "execution_count": 27,
   "id": "1f825999",
   "metadata": {
    "colab": {
     "base_uri": "https://localhost:8080/"
    },
    "executionInfo": {
     "elapsed": 576,
     "status": "ok",
     "timestamp": 1620512692646,
     "user": {
      "displayName": "Bruno Santos",
      "photoUrl": "",
      "userId": "08605551310692069158"
     },
     "user_tz": -60
    },
    "id": "1f825999",
    "outputId": "fae87aea-a309-4541-887f-6b63c2112a05"
   },
   "outputs": [
    {
     "name": "stdout",
     "output_type": "stream",
     "text": [
      "Polar Surface Area:\t 20.23\n"
     ]
    }
   ],
   "source": [
    "tpsa = Descriptors.TPSA( mol )\n",
    "print(\"Polar Surface Area:\\t\", tpsa)"
   ]
  },
  {
   "cell_type": "markdown",
   "id": "e68b28cb",
   "metadata": {
    "id": "e68b28cb"
   },
   "source": [
    "# Manipulações no dataset train.csv - Exemplo"
   ]
  },
  {
   "cell_type": "markdown",
   "id": "KSBdxPP0Q-Lz",
   "metadata": {
    "id": "KSBdxPP0Q-Lz"
   },
   "source": [
    "## Carregar o dataset e aproveitar apenas a coluna SMILES - Exemplo"
   ]
  },
  {
   "cell_type": "markdown",
   "id": "q_AEnsg8JG8d",
   "metadata": {
    "id": "q_AEnsg8JG8d"
   },
   "source": [
    "Necessário carregar o dataset \"train.csv\" para o interior da pasta datasets"
   ]
  },
  {
   "cell_type": "code",
   "execution_count": 33,
   "id": "dfa34f7c",
   "metadata": {
    "executionInfo": {
     "elapsed": 1818,
     "status": "ok",
     "timestamp": 1620513130066,
     "user": {
      "displayName": "Bruno Santos",
      "photoUrl": "",
      "userId": "08605551310692069158"
     },
     "user_tz": -60
    },
    "id": "dfa34f7c"
   },
   "outputs": [],
   "source": [
    "molecules = pd.read_csv(\"data/train.csv\")\n",
    "del molecules[\"SPLIT\"]"
   ]
  },
  {
   "cell_type": "code",
   "execution_count": 34,
   "id": "XTu1X17eRelA",
   "metadata": {
    "colab": {
     "base_uri": "https://localhost:8080/",
     "height": 206
    },
    "executionInfo": {
     "elapsed": 663,
     "status": "ok",
     "timestamp": 1620513133862,
     "user": {
      "displayName": "Bruno Santos",
      "photoUrl": "",
      "userId": "08605551310692069158"
     },
     "user_tz": -60
    },
    "id": "XTu1X17eRelA",
    "outputId": "ad45d985-c23f-48b0-83e4-8361748ff101"
   },
   "outputs": [
    {
     "data": {
      "text/html": [
       "<div>\n",
       "<style scoped>\n",
       "    .dataframe tbody tr th:only-of-type {\n",
       "        vertical-align: middle;\n",
       "    }\n",
       "\n",
       "    .dataframe tbody tr th {\n",
       "        vertical-align: top;\n",
       "    }\n",
       "\n",
       "    .dataframe thead th {\n",
       "        text-align: right;\n",
       "    }\n",
       "</style>\n",
       "<table border=\"1\" class=\"dataframe\">\n",
       "  <thead>\n",
       "    <tr style=\"text-align: right;\">\n",
       "      <th></th>\n",
       "      <th>SMILES</th>\n",
       "    </tr>\n",
       "  </thead>\n",
       "  <tbody>\n",
       "    <tr>\n",
       "      <th>0</th>\n",
       "      <td>CCCS(=O)c1ccc2[nH]c(=NC(=O)OC)[nH]c2c1</td>\n",
       "    </tr>\n",
       "    <tr>\n",
       "      <th>1</th>\n",
       "      <td>CC(C)(C)C(=O)C(Oc1ccc(Cl)cc1)n1ccnc1</td>\n",
       "    </tr>\n",
       "    <tr>\n",
       "      <th>2</th>\n",
       "      <td>Cc1c(Cl)cccc1Nc1ncccc1C(=O)OCC(O)CO</td>\n",
       "    </tr>\n",
       "    <tr>\n",
       "      <th>3</th>\n",
       "      <td>Cn1cnc2c1c(=O)n(CC(O)CO)c(=O)n2C</td>\n",
       "    </tr>\n",
       "    <tr>\n",
       "      <th>4</th>\n",
       "      <td>CC1Oc2ccc(Cl)cc2N(CC(O)CO)C1=O</td>\n",
       "    </tr>\n",
       "  </tbody>\n",
       "</table>\n",
       "</div>"
      ],
      "text/plain": [
       "                                   SMILES\n",
       "0  CCCS(=O)c1ccc2[nH]c(=NC(=O)OC)[nH]c2c1\n",
       "1    CC(C)(C)C(=O)C(Oc1ccc(Cl)cc1)n1ccnc1\n",
       "2     Cc1c(Cl)cccc1Nc1ncccc1C(=O)OCC(O)CO\n",
       "3        Cn1cnc2c1c(=O)n(CC(O)CO)c(=O)n2C\n",
       "4          CC1Oc2ccc(Cl)cc2N(CC(O)CO)C1=O"
      ]
     },
     "execution_count": 34,
     "metadata": {
      "tags": []
     },
     "output_type": "execute_result"
    }
   ],
   "source": [
    "molecules.head()"
   ]
  },
  {
   "cell_type": "code",
   "execution_count": 35,
   "id": "9F6cW3a1bmp-",
   "metadata": {
    "colab": {
     "base_uri": "https://localhost:8080/"
    },
    "executionInfo": {
     "elapsed": 505,
     "status": "ok",
     "timestamp": 1620513136733,
     "user": {
      "displayName": "Bruno Santos",
      "photoUrl": "",
      "userId": "08605551310692069158"
     },
     "user_tz": -60
    },
    "id": "9F6cW3a1bmp-",
    "outputId": "3ab195f5-7262-42f3-fe37-09548ea0dae4"
   },
   "outputs": [
    {
     "data": {
      "text/plain": [
       "1584663"
      ]
     },
     "execution_count": 35,
     "metadata": {
      "tags": []
     },
     "output_type": "execute_result"
    }
   ],
   "source": [
    "molecules.size"
   ]
  },
  {
   "cell_type": "markdown",
   "id": "avsMcOQgbubJ",
   "metadata": {
    "id": "avsMcOQgbubJ"
   },
   "source": [
    "Tem 1.6 milhoes de moleculas. Reduzir o dataset devido a problemas de RAM"
   ]
  },
  {
   "cell_type": "markdown",
   "id": "XFOWm_1Bb3YJ",
   "metadata": {
    "id": "XFOWm_1Bb3YJ"
   },
   "source": [
    "### Redução do dataset"
   ]
  },
  {
   "cell_type": "code",
   "execution_count": 36,
   "id": "p0PqxbWib7l5",
   "metadata": {
    "executionInfo": {
     "elapsed": 374,
     "status": "ok",
     "timestamp": 1620513138733,
     "user": {
      "displayName": "Bruno Santos",
      "photoUrl": "",
      "userId": "08605551310692069158"
     },
     "user_tz": -60
    },
    "id": "p0PqxbWib7l5"
   },
   "outputs": [],
   "source": [
    "molecules_reduce = molecules.sample(5000)"
   ]
  },
  {
   "cell_type": "code",
   "execution_count": 37,
   "id": "GSWFMSsgcE15",
   "metadata": {
    "colab": {
     "base_uri": "https://localhost:8080/"
    },
    "executionInfo": {
     "elapsed": 685,
     "status": "ok",
     "timestamp": 1620513139051,
     "user": {
      "displayName": "Bruno Santos",
      "photoUrl": "",
      "userId": "08605551310692069158"
     },
     "user_tz": -60
    },
    "id": "GSWFMSsgcE15",
    "outputId": "455fb9a3-262e-4df8-f2d6-677dd6d6af1e"
   },
   "outputs": [
    {
     "data": {
      "text/plain": [
       "5000"
      ]
     },
     "execution_count": 37,
     "metadata": {
      "tags": []
     },
     "output_type": "execute_result"
    }
   ],
   "source": [
    "molecules_reduce.size"
   ]
  },
  {
   "cell_type": "markdown",
   "id": "8ce7890d",
   "metadata": {
    "id": "8ce7890d"
   },
   "source": [
    "### Para cada SMILES adicionar o correspondente objeto mol\n"
   ]
  },
  {
   "cell_type": "code",
   "execution_count": 38,
   "id": "2a25fb69",
   "metadata": {
    "executionInfo": {
     "elapsed": 1137,
     "status": "ok",
     "timestamp": 1620513144631,
     "user": {
      "displayName": "Bruno Santos",
      "photoUrl": "",
      "userId": "08605551310692069158"
     },
     "user_tz": -60
    },
    "id": "2a25fb69"
   },
   "outputs": [],
   "source": [
    "molecules_reduce['mols'] = molecules_reduce['SMILES'].apply(lambda x: Chem.MolFromSmiles(x))"
   ]
  },
  {
   "cell_type": "code",
   "execution_count": 39,
   "id": "wCcQTPdZS2K3",
   "metadata": {
    "colab": {
     "base_uri": "https://localhost:8080/",
     "height": 0
    },
    "executionInfo": {
     "elapsed": 1135,
     "status": "ok",
     "timestamp": 1620513144637,
     "user": {
      "displayName": "Bruno Santos",
      "photoUrl": "",
      "userId": "08605551310692069158"
     },
     "user_tz": -60
    },
    "id": "wCcQTPdZS2K3",
    "outputId": "e8c73c1a-8d72-4dee-cce7-33d3344fa5dd"
   },
   "outputs": [
    {
     "data": {
      "text/html": [
       "<div>\n",
       "<style scoped>\n",
       "    .dataframe tbody tr th:only-of-type {\n",
       "        vertical-align: middle;\n",
       "    }\n",
       "\n",
       "    .dataframe tbody tr th {\n",
       "        vertical-align: top;\n",
       "    }\n",
       "\n",
       "    .dataframe thead th {\n",
       "        text-align: right;\n",
       "    }\n",
       "</style>\n",
       "<table border=\"1\" class=\"dataframe\">\n",
       "  <thead>\n",
       "    <tr style=\"text-align: right;\">\n",
       "      <th></th>\n",
       "      <th>SMILES</th>\n",
       "      <th>mols</th>\n",
       "    </tr>\n",
       "  </thead>\n",
       "  <tbody>\n",
       "    <tr>\n",
       "      <th>86890</th>\n",
       "      <td>Cc1cccn2cc(CCNS(=O)(=O)c3cccc(F)c3)nc12</td>\n",
       "      <td>&lt;rdkit.Chem.rdchem.Mol object at 0x7efc519a7490&gt;</td>\n",
       "    </tr>\n",
       "    <tr>\n",
       "      <th>947484</th>\n",
       "      <td>CC(c1ccc(NC(=O)NCCC2CCCO2)cc1)N1CCOCC1</td>\n",
       "      <td>&lt;rdkit.Chem.rdchem.Mol object at 0x7efc519a7ad0&gt;</td>\n",
       "    </tr>\n",
       "    <tr>\n",
       "      <th>923280</th>\n",
       "      <td>O=C1CCC(C(=O)N2CCCC2c2nc3ccccc3s2)N1</td>\n",
       "      <td>&lt;rdkit.Chem.rdchem.Mol object at 0x7efc519a7530&gt;</td>\n",
       "    </tr>\n",
       "    <tr>\n",
       "      <th>1550856</th>\n",
       "      <td>Cn1cccc1C1COCCN1C(=O)c1ccc2c(c1)nnn2C</td>\n",
       "      <td>&lt;rdkit.Chem.rdchem.Mol object at 0x7efc519b7da0&gt;</td>\n",
       "    </tr>\n",
       "    <tr>\n",
       "      <th>1144022</th>\n",
       "      <td>CCCNc1nnc(-c2c3c(nn(C)c2=O)CCC3)s1</td>\n",
       "      <td>&lt;rdkit.Chem.rdchem.Mol object at 0x7efc519b7a30&gt;</td>\n",
       "    </tr>\n",
       "  </tbody>\n",
       "</table>\n",
       "</div>"
      ],
      "text/plain": [
       "                                          SMILES                                              mols\n",
       "86890    Cc1cccn2cc(CCNS(=O)(=O)c3cccc(F)c3)nc12  <rdkit.Chem.rdchem.Mol object at 0x7efc519a7490>\n",
       "947484    CC(c1ccc(NC(=O)NCCC2CCCO2)cc1)N1CCOCC1  <rdkit.Chem.rdchem.Mol object at 0x7efc519a7ad0>\n",
       "923280      O=C1CCC(C(=O)N2CCCC2c2nc3ccccc3s2)N1  <rdkit.Chem.rdchem.Mol object at 0x7efc519a7530>\n",
       "1550856    Cn1cccc1C1COCCN1C(=O)c1ccc2c(c1)nnn2C  <rdkit.Chem.rdchem.Mol object at 0x7efc519b7da0>\n",
       "1144022       CCCNc1nnc(-c2c3c(nn(C)c2=O)CCC3)s1  <rdkit.Chem.rdchem.Mol object at 0x7efc519b7a30>"
      ]
     },
     "execution_count": 39,
     "metadata": {
      "tags": []
     },
     "output_type": "execute_result"
    }
   ],
   "source": [
    "molecules_reduce.head()"
   ]
  },
  {
   "cell_type": "markdown",
   "id": "UzsNgxxARU0H",
   "metadata": {
    "id": "UzsNgxxARU0H"
   },
   "source": [
    "### Para cada SMILES adicionar o correspondente peso molecular"
   ]
  },
  {
   "cell_type": "code",
   "execution_count": 40,
   "id": "8d0ee611",
   "metadata": {
    "executionInfo": {
     "elapsed": 1721,
     "status": "ok",
     "timestamp": 1620513149097,
     "user": {
      "displayName": "Bruno Santos",
      "photoUrl": "",
      "userId": "08605551310692069158"
     },
     "user_tz": -60
    },
    "id": "8d0ee611"
   },
   "outputs": [],
   "source": [
    "molecules_reduce['molWt'] = molecules_reduce['mols'].apply(lambda x: Descriptors.MolLogP(x))"
   ]
  },
  {
   "cell_type": "code",
   "execution_count": 41,
   "id": "4V-GbPKqRcMR",
   "metadata": {
    "colab": {
     "base_uri": "https://localhost:8080/",
     "height": 0
    },
    "executionInfo": {
     "elapsed": 1715,
     "status": "ok",
     "timestamp": 1620513149099,
     "user": {
      "displayName": "Bruno Santos",
      "photoUrl": "",
      "userId": "08605551310692069158"
     },
     "user_tz": -60
    },
    "id": "4V-GbPKqRcMR",
    "outputId": "e16d522f-a6c0-478d-9eb0-72ab8fe3ad43"
   },
   "outputs": [
    {
     "data": {
      "text/html": [
       "<div>\n",
       "<style scoped>\n",
       "    .dataframe tbody tr th:only-of-type {\n",
       "        vertical-align: middle;\n",
       "    }\n",
       "\n",
       "    .dataframe tbody tr th {\n",
       "        vertical-align: top;\n",
       "    }\n",
       "\n",
       "    .dataframe thead th {\n",
       "        text-align: right;\n",
       "    }\n",
       "</style>\n",
       "<table border=\"1\" class=\"dataframe\">\n",
       "  <thead>\n",
       "    <tr style=\"text-align: right;\">\n",
       "      <th></th>\n",
       "      <th>SMILES</th>\n",
       "      <th>mols</th>\n",
       "      <th>molWt</th>\n",
       "    </tr>\n",
       "  </thead>\n",
       "  <tbody>\n",
       "    <tr>\n",
       "      <th>86890</th>\n",
       "      <td>Cc1cccn2cc(CCNS(=O)(=O)c3cccc(F)c3)nc12</td>\n",
       "      <td>&lt;rdkit.Chem.rdchem.Mol object at 0x7efc519a7490&gt;</td>\n",
       "      <td>2.30282</td>\n",
       "    </tr>\n",
       "    <tr>\n",
       "      <th>947484</th>\n",
       "      <td>CC(c1ccc(NC(=O)NCCC2CCCO2)cc1)N1CCOCC1</td>\n",
       "      <td>&lt;rdkit.Chem.rdchem.Mol object at 0x7efc519a7ad0&gt;</td>\n",
       "      <td>2.77040</td>\n",
       "    </tr>\n",
       "    <tr>\n",
       "      <th>923280</th>\n",
       "      <td>O=C1CCC(C(=O)N2CCCC2c2nc3ccccc3s2)N1</td>\n",
       "      <td>&lt;rdkit.Chem.rdchem.Mol object at 0x7efc519a7530&gt;</td>\n",
       "      <td>2.23840</td>\n",
       "    </tr>\n",
       "    <tr>\n",
       "      <th>1550856</th>\n",
       "      <td>Cn1cccc1C1COCCN1C(=O)c1ccc2c(c1)nnn2C</td>\n",
       "      <td>&lt;rdkit.Chem.rdchem.Mol object at 0x7efc519b7da0&gt;</td>\n",
       "      <td>1.52050</td>\n",
       "    </tr>\n",
       "    <tr>\n",
       "      <th>1144022</th>\n",
       "      <td>CCCNc1nnc(-c2c3c(nn(C)c2=O)CCC3)s1</td>\n",
       "      <td>&lt;rdkit.Chem.rdchem.Mol object at 0x7efc519b7a30&gt;</td>\n",
       "      <td>1.60940</td>\n",
       "    </tr>\n",
       "  </tbody>\n",
       "</table>\n",
       "</div>"
      ],
      "text/plain": [
       "                                          SMILES  ...    molWt\n",
       "86890    Cc1cccn2cc(CCNS(=O)(=O)c3cccc(F)c3)nc12  ...  2.30282\n",
       "947484    CC(c1ccc(NC(=O)NCCC2CCCO2)cc1)N1CCOCC1  ...  2.77040\n",
       "923280      O=C1CCC(C(=O)N2CCCC2c2nc3ccccc3s2)N1  ...  2.23840\n",
       "1550856    Cn1cccc1C1COCCN1C(=O)c1ccc2c(c1)nnn2C  ...  1.52050\n",
       "1144022       CCCNc1nnc(-c2c3c(nn(C)c2=O)CCC3)s1  ...  1.60940\n",
       "\n",
       "[5 rows x 3 columns]"
      ]
     },
     "execution_count": 41,
     "metadata": {
      "tags": []
     },
     "output_type": "execute_result"
    }
   ],
   "source": [
    "molecules_reduce.head()"
   ]
  },
  {
   "cell_type": "markdown",
   "id": "Fg07lDsERuGd",
   "metadata": {
    "id": "Fg07lDsERuGd"
   },
   "source": [
    "### Para cada SMILES adicionar a correspondente Solubilidade\n",
    "\n"
   ]
  },
  {
   "cell_type": "code",
   "execution_count": 42,
   "id": "7-wDJ6dHR_y4",
   "metadata": {
    "executionInfo": {
     "elapsed": 613,
     "status": "ok",
     "timestamp": 1620513150768,
     "user": {
      "displayName": "Bruno Santos",
      "photoUrl": "",
      "userId": "08605551310692069158"
     },
     "user_tz": -60
    },
    "id": "7-wDJ6dHR_y4"
   },
   "outputs": [],
   "source": [
    "molecules_reduce['Solubility'] = molecules_reduce['mols'].apply(lambda x: Descriptors.MolLogP(x))"
   ]
  },
  {
   "cell_type": "code",
   "execution_count": 43,
   "id": "uBnCY1pHSAo3",
   "metadata": {
    "colab": {
     "base_uri": "https://localhost:8080/",
     "height": 0
    },
    "executionInfo": {
     "elapsed": 609,
     "status": "ok",
     "timestamp": 1620513150769,
     "user": {
      "displayName": "Bruno Santos",
      "photoUrl": "",
      "userId": "08605551310692069158"
     },
     "user_tz": -60
    },
    "id": "uBnCY1pHSAo3",
    "outputId": "65cd0e0e-e83d-40b7-9006-89761fe53e46"
   },
   "outputs": [
    {
     "data": {
      "text/html": [
       "<div>\n",
       "<style scoped>\n",
       "    .dataframe tbody tr th:only-of-type {\n",
       "        vertical-align: middle;\n",
       "    }\n",
       "\n",
       "    .dataframe tbody tr th {\n",
       "        vertical-align: top;\n",
       "    }\n",
       "\n",
       "    .dataframe thead th {\n",
       "        text-align: right;\n",
       "    }\n",
       "</style>\n",
       "<table border=\"1\" class=\"dataframe\">\n",
       "  <thead>\n",
       "    <tr style=\"text-align: right;\">\n",
       "      <th></th>\n",
       "      <th>SMILES</th>\n",
       "      <th>mols</th>\n",
       "      <th>molWt</th>\n",
       "      <th>Solubility</th>\n",
       "    </tr>\n",
       "  </thead>\n",
       "  <tbody>\n",
       "    <tr>\n",
       "      <th>86890</th>\n",
       "      <td>Cc1cccn2cc(CCNS(=O)(=O)c3cccc(F)c3)nc12</td>\n",
       "      <td>&lt;rdkit.Chem.rdchem.Mol object at 0x7efc519a7490&gt;</td>\n",
       "      <td>2.30282</td>\n",
       "      <td>2.30282</td>\n",
       "    </tr>\n",
       "    <tr>\n",
       "      <th>947484</th>\n",
       "      <td>CC(c1ccc(NC(=O)NCCC2CCCO2)cc1)N1CCOCC1</td>\n",
       "      <td>&lt;rdkit.Chem.rdchem.Mol object at 0x7efc519a7ad0&gt;</td>\n",
       "      <td>2.77040</td>\n",
       "      <td>2.77040</td>\n",
       "    </tr>\n",
       "    <tr>\n",
       "      <th>923280</th>\n",
       "      <td>O=C1CCC(C(=O)N2CCCC2c2nc3ccccc3s2)N1</td>\n",
       "      <td>&lt;rdkit.Chem.rdchem.Mol object at 0x7efc519a7530&gt;</td>\n",
       "      <td>2.23840</td>\n",
       "      <td>2.23840</td>\n",
       "    </tr>\n",
       "    <tr>\n",
       "      <th>1550856</th>\n",
       "      <td>Cn1cccc1C1COCCN1C(=O)c1ccc2c(c1)nnn2C</td>\n",
       "      <td>&lt;rdkit.Chem.rdchem.Mol object at 0x7efc519b7da0&gt;</td>\n",
       "      <td>1.52050</td>\n",
       "      <td>1.52050</td>\n",
       "    </tr>\n",
       "    <tr>\n",
       "      <th>1144022</th>\n",
       "      <td>CCCNc1nnc(-c2c3c(nn(C)c2=O)CCC3)s1</td>\n",
       "      <td>&lt;rdkit.Chem.rdchem.Mol object at 0x7efc519b7a30&gt;</td>\n",
       "      <td>1.60940</td>\n",
       "      <td>1.60940</td>\n",
       "    </tr>\n",
       "  </tbody>\n",
       "</table>\n",
       "</div>"
      ],
      "text/plain": [
       "                                          SMILES  ... Solubility\n",
       "86890    Cc1cccn2cc(CCNS(=O)(=O)c3cccc(F)c3)nc12  ...    2.30282\n",
       "947484    CC(c1ccc(NC(=O)NCCC2CCCO2)cc1)N1CCOCC1  ...    2.77040\n",
       "923280      O=C1CCC(C(=O)N2CCCC2c2nc3ccccc3s2)N1  ...    2.23840\n",
       "1550856    Cn1cccc1C1COCCN1C(=O)c1ccc2c(c1)nnn2C  ...    1.52050\n",
       "1144022       CCCNc1nnc(-c2c3c(nn(C)c2=O)CCC3)s1  ...    1.60940\n",
       "\n",
       "[5 rows x 4 columns]"
      ]
     },
     "execution_count": 43,
     "metadata": {
      "tags": []
     },
     "output_type": "execute_result"
    }
   ],
   "source": [
    "molecules_reduce.head()"
   ]
  },
  {
   "cell_type": "markdown",
   "id": "mSYUHtQ-R1V4",
   "metadata": {
    "id": "mSYUHtQ-R1V4"
   },
   "source": [
    "### Para cada SMILES adicionar a correspondente Area de superficies polar"
   ]
  },
  {
   "cell_type": "code",
   "execution_count": 44,
   "id": "x_vEj1vRSCY8",
   "metadata": {
    "executionInfo": {
     "elapsed": 399,
     "status": "ok",
     "timestamp": 1620513152864,
     "user": {
      "displayName": "Bruno Santos",
      "photoUrl": "",
      "userId": "08605551310692069158"
     },
     "user_tz": -60
    },
    "id": "x_vEj1vRSCY8"
   },
   "outputs": [],
   "source": [
    "molecules_reduce['PolarSurfaceArea'] = molecules_reduce['mols'].apply(lambda x: Descriptors.TPSA(x))"
   ]
  },
  {
   "cell_type": "code",
   "execution_count": 45,
   "id": "ua5yCY7jSDO4",
   "metadata": {
    "colab": {
     "base_uri": "https://localhost:8080/",
     "height": 206
    },
    "executionInfo": {
     "elapsed": 717,
     "status": "ok",
     "timestamp": 1620513153189,
     "user": {
      "displayName": "Bruno Santos",
      "photoUrl": "",
      "userId": "08605551310692069158"
     },
     "user_tz": -60
    },
    "id": "ua5yCY7jSDO4",
    "outputId": "fb9547e7-65db-4412-8f90-dbf8ffe30320"
   },
   "outputs": [
    {
     "data": {
      "text/html": [
       "<div>\n",
       "<style scoped>\n",
       "    .dataframe tbody tr th:only-of-type {\n",
       "        vertical-align: middle;\n",
       "    }\n",
       "\n",
       "    .dataframe tbody tr th {\n",
       "        vertical-align: top;\n",
       "    }\n",
       "\n",
       "    .dataframe thead th {\n",
       "        text-align: right;\n",
       "    }\n",
       "</style>\n",
       "<table border=\"1\" class=\"dataframe\">\n",
       "  <thead>\n",
       "    <tr style=\"text-align: right;\">\n",
       "      <th></th>\n",
       "      <th>SMILES</th>\n",
       "      <th>mols</th>\n",
       "      <th>molWt</th>\n",
       "      <th>Solubility</th>\n",
       "      <th>PolarSurfaceArea</th>\n",
       "    </tr>\n",
       "  </thead>\n",
       "  <tbody>\n",
       "    <tr>\n",
       "      <th>86890</th>\n",
       "      <td>Cc1cccn2cc(CCNS(=O)(=O)c3cccc(F)c3)nc12</td>\n",
       "      <td>&lt;rdkit.Chem.rdchem.Mol object at 0x7efc519a7490&gt;</td>\n",
       "      <td>2.30282</td>\n",
       "      <td>2.30282</td>\n",
       "      <td>63.47</td>\n",
       "    </tr>\n",
       "    <tr>\n",
       "      <th>947484</th>\n",
       "      <td>CC(c1ccc(NC(=O)NCCC2CCCO2)cc1)N1CCOCC1</td>\n",
       "      <td>&lt;rdkit.Chem.rdchem.Mol object at 0x7efc519a7ad0&gt;</td>\n",
       "      <td>2.77040</td>\n",
       "      <td>2.77040</td>\n",
       "      <td>62.83</td>\n",
       "    </tr>\n",
       "    <tr>\n",
       "      <th>923280</th>\n",
       "      <td>O=C1CCC(C(=O)N2CCCC2c2nc3ccccc3s2)N1</td>\n",
       "      <td>&lt;rdkit.Chem.rdchem.Mol object at 0x7efc519a7530&gt;</td>\n",
       "      <td>2.23840</td>\n",
       "      <td>2.23840</td>\n",
       "      <td>62.30</td>\n",
       "    </tr>\n",
       "    <tr>\n",
       "      <th>1550856</th>\n",
       "      <td>Cn1cccc1C1COCCN1C(=O)c1ccc2c(c1)nnn2C</td>\n",
       "      <td>&lt;rdkit.Chem.rdchem.Mol object at 0x7efc519b7da0&gt;</td>\n",
       "      <td>1.52050</td>\n",
       "      <td>1.52050</td>\n",
       "      <td>65.18</td>\n",
       "    </tr>\n",
       "    <tr>\n",
       "      <th>1144022</th>\n",
       "      <td>CCCNc1nnc(-c2c3c(nn(C)c2=O)CCC3)s1</td>\n",
       "      <td>&lt;rdkit.Chem.rdchem.Mol object at 0x7efc519b7a30&gt;</td>\n",
       "      <td>1.60940</td>\n",
       "      <td>1.60940</td>\n",
       "      <td>72.70</td>\n",
       "    </tr>\n",
       "  </tbody>\n",
       "</table>\n",
       "</div>"
      ],
      "text/plain": [
       "                                          SMILES  ... PolarSurfaceArea\n",
       "86890    Cc1cccn2cc(CCNS(=O)(=O)c3cccc(F)c3)nc12  ...            63.47\n",
       "947484    CC(c1ccc(NC(=O)NCCC2CCCO2)cc1)N1CCOCC1  ...            62.83\n",
       "923280      O=C1CCC(C(=O)N2CCCC2c2nc3ccccc3s2)N1  ...            62.30\n",
       "1550856    Cn1cccc1C1COCCN1C(=O)c1ccc2c(c1)nnn2C  ...            65.18\n",
       "1144022       CCCNc1nnc(-c2c3c(nn(C)c2=O)CCC3)s1  ...            72.70\n",
       "\n",
       "[5 rows x 5 columns]"
      ]
     },
     "execution_count": 45,
     "metadata": {
      "tags": []
     },
     "output_type": "execute_result"
    }
   ],
   "source": [
    "molecules_reduce.head()"
   ]
  },
  {
   "cell_type": "markdown",
   "id": "9Hjl8HrVc7V1",
   "metadata": {
    "id": "9Hjl8HrVc7V1"
   },
   "source": [
    "### dataset reduzido com todas as propriedades"
   ]
  },
  {
   "cell_type": "code",
   "execution_count": 46,
   "id": "2f8JNxFec97J",
   "metadata": {
    "colab": {
     "base_uri": "https://localhost:8080/",
     "height": 206
    },
    "executionInfo": {
     "elapsed": 714,
     "status": "ok",
     "timestamp": 1620513153191,
     "user": {
      "displayName": "Bruno Santos",
      "photoUrl": "",
      "userId": "08605551310692069158"
     },
     "user_tz": -60
    },
    "id": "2f8JNxFec97J",
    "outputId": "c8d479b0-51c6-42df-cf42-8605ebb557c0"
   },
   "outputs": [
    {
     "data": {
      "text/html": [
       "<div>\n",
       "<style scoped>\n",
       "    .dataframe tbody tr th:only-of-type {\n",
       "        vertical-align: middle;\n",
       "    }\n",
       "\n",
       "    .dataframe tbody tr th {\n",
       "        vertical-align: top;\n",
       "    }\n",
       "\n",
       "    .dataframe thead th {\n",
       "        text-align: right;\n",
       "    }\n",
       "</style>\n",
       "<table border=\"1\" class=\"dataframe\">\n",
       "  <thead>\n",
       "    <tr style=\"text-align: right;\">\n",
       "      <th></th>\n",
       "      <th>SMILES</th>\n",
       "      <th>mols</th>\n",
       "      <th>molWt</th>\n",
       "      <th>Solubility</th>\n",
       "      <th>PolarSurfaceArea</th>\n",
       "    </tr>\n",
       "  </thead>\n",
       "  <tbody>\n",
       "    <tr>\n",
       "      <th>86890</th>\n",
       "      <td>Cc1cccn2cc(CCNS(=O)(=O)c3cccc(F)c3)nc12</td>\n",
       "      <td>&lt;rdkit.Chem.rdchem.Mol object at 0x7efc519a7490&gt;</td>\n",
       "      <td>2.30282</td>\n",
       "      <td>2.30282</td>\n",
       "      <td>63.47</td>\n",
       "    </tr>\n",
       "    <tr>\n",
       "      <th>947484</th>\n",
       "      <td>CC(c1ccc(NC(=O)NCCC2CCCO2)cc1)N1CCOCC1</td>\n",
       "      <td>&lt;rdkit.Chem.rdchem.Mol object at 0x7efc519a7ad0&gt;</td>\n",
       "      <td>2.77040</td>\n",
       "      <td>2.77040</td>\n",
       "      <td>62.83</td>\n",
       "    </tr>\n",
       "    <tr>\n",
       "      <th>923280</th>\n",
       "      <td>O=C1CCC(C(=O)N2CCCC2c2nc3ccccc3s2)N1</td>\n",
       "      <td>&lt;rdkit.Chem.rdchem.Mol object at 0x7efc519a7530&gt;</td>\n",
       "      <td>2.23840</td>\n",
       "      <td>2.23840</td>\n",
       "      <td>62.30</td>\n",
       "    </tr>\n",
       "    <tr>\n",
       "      <th>1550856</th>\n",
       "      <td>Cn1cccc1C1COCCN1C(=O)c1ccc2c(c1)nnn2C</td>\n",
       "      <td>&lt;rdkit.Chem.rdchem.Mol object at 0x7efc519b7da0&gt;</td>\n",
       "      <td>1.52050</td>\n",
       "      <td>1.52050</td>\n",
       "      <td>65.18</td>\n",
       "    </tr>\n",
       "    <tr>\n",
       "      <th>1144022</th>\n",
       "      <td>CCCNc1nnc(-c2c3c(nn(C)c2=O)CCC3)s1</td>\n",
       "      <td>&lt;rdkit.Chem.rdchem.Mol object at 0x7efc519b7a30&gt;</td>\n",
       "      <td>1.60940</td>\n",
       "      <td>1.60940</td>\n",
       "      <td>72.70</td>\n",
       "    </tr>\n",
       "  </tbody>\n",
       "</table>\n",
       "</div>"
      ],
      "text/plain": [
       "                                          SMILES  ... PolarSurfaceArea\n",
       "86890    Cc1cccn2cc(CCNS(=O)(=O)c3cccc(F)c3)nc12  ...            63.47\n",
       "947484    CC(c1ccc(NC(=O)NCCC2CCCO2)cc1)N1CCOCC1  ...            62.83\n",
       "923280      O=C1CCC(C(=O)N2CCCC2c2nc3ccccc3s2)N1  ...            62.30\n",
       "1550856    Cn1cccc1C1COCCN1C(=O)c1ccc2c(c1)nnn2C  ...            65.18\n",
       "1144022       CCCNc1nnc(-c2c3c(nn(C)c2=O)CCC3)s1  ...            72.70\n",
       "\n",
       "[5 rows x 5 columns]"
      ]
     },
     "execution_count": 46,
     "metadata": {
      "tags": []
     },
     "output_type": "execute_result"
    }
   ],
   "source": [
    "molecules_reduce.head()"
   ]
  },
  {
   "cell_type": "markdown",
   "id": "NUWZbSR-HOPS",
   "metadata": {
    "id": "NUWZbSR-HOPS"
   },
   "source": [
    "Neste último dataset não foi possível calcular as propriedades das moléculas para todos os exemplos de treino, uma vez que o carregamento de mais de 1 milhão de moléculas comprometia a memória RAM. Na próxima secção encontra-se o código que consegue resolver o problema da memória RAM."
   ]
  },
  {
   "cell_type": "markdown",
   "id": "6RmPe3XLj2yU",
   "metadata": {
    "id": "6RmPe3XLj2yU"
   },
   "source": [
    "# Construção do dataset train_final.csv com todos os dados do dataset de treino e com as conlunas referentes às propriedades dos SMILES supracitadas"
   ]
  },
  {
   "cell_type": "markdown",
   "id": "aEaJfgMTIhm-",
   "metadata": {
    "id": "aEaJfgMTIhm-"
   },
   "source": [
    "Construção de um dataframe cujas colunas são as propriedades das moléculas: peso molecular, solubilidade e área polar"
   ]
  },
  {
   "cell_type": "code",
   "execution_count": 47,
   "id": "8Jt2SbsMkEAq",
   "metadata": {
    "executionInfo": {
     "elapsed": 804,
     "status": "ok",
     "timestamp": 1620513312637,
     "user": {
      "displayName": "Bruno Santos",
      "photoUrl": "",
      "userId": "08605551310692069158"
     },
     "user_tz": -60
    },
    "id": "8Jt2SbsMkEAq"
   },
   "outputs": [],
   "source": [
    "molecules_final1 = pd.DataFrame(columns=['SMILES','molWt','Solubility','PolarSurfaceArea']) \n",
    "molecules_final1\n",
    "molecules_final1.to_csv(\"data/train_final.csv\")"
   ]
  },
  {
   "cell_type": "markdown",
   "id": "SPY4oToaIt3y",
   "metadata": {
    "id": "SPY4oToaIt3y"
   },
   "source": [
    "Contrução do ficheiro train_final.csv, cujos exemplos são os SMILES dos dados de treino e as colunas o calculo das respetivas propriedades"
   ]
  },
  {
   "cell_type": "code",
   "execution_count": 48,
   "id": "vhRmUMpYj--s",
   "metadata": {
    "executionInfo": {
     "elapsed": 544056,
     "status": "ok",
     "timestamp": 1620513947285,
     "user": {
      "displayName": "Bruno Santos",
      "photoUrl": "",
      "userId": "08605551310692069158"
     },
     "user_tz": -60
    },
    "id": "vhRmUMpYj--s"
   },
   "outputs": [],
   "source": [
    "chunksize = 10000\n",
    "filename = \"data/train.csv\"\n",
    "for chunk in pd.read_csv(filename, chunksize=chunksize):\n",
    "    del chunk[\"SPLIT\"]\n",
    "    chunk['mols'] = chunk['SMILES'].apply(lambda x: Chem.MolFromSmiles(x))\n",
    "    chunk['molWt'] = chunk['mols'].apply(lambda x: Descriptors.MolLogP(x))\n",
    "    chunk['Solubility'] = chunk['mols'].apply(lambda x: Descriptors.MolLogP(x))\n",
    "    chunk['PolarSurfaceArea'] = chunk['mols'].apply(lambda x: Descriptors.TPSA(x))\n",
    "    del chunk[\"mols\"]\n",
    "    chunk.to_csv(\"data/train_final.csv\", mode='a', header=False)"
   ]
  },
  {
   "cell_type": "markdown",
   "id": "B5qa3EPuNCG9",
   "metadata": {
    "id": "B5qa3EPuNCG9"
   },
   "source": [
    "Verificação do número de linhas dos datasets. Se no processo não houve erros, número de exemplos são iguais"
   ]
  },
  {
   "cell_type": "code",
   "execution_count": 51,
   "id": "1Dog0kNzMnJG",
   "metadata": {
    "colab": {
     "base_uri": "https://localhost:8080/"
    },
    "executionInfo": {
     "elapsed": 2361,
     "status": "ok",
     "timestamp": 1620514687279,
     "user": {
      "displayName": "Bruno Santos",
      "photoUrl": "",
      "userId": "08605551310692069158"
     },
     "user_tz": -60
    },
    "id": "1Dog0kNzMnJG",
    "outputId": "ae1645ca-f49f-4618-c66e-8a9703bc24fe"
   },
   "outputs": [
    {
     "data": {
      "text/plain": [
       "1584663"
      ]
     },
     "execution_count": 51,
     "metadata": {
      "tags": []
     },
     "output_type": "execute_result"
    }
   ],
   "source": [
    "pd.read_csv(\"data/train_final.csv\")[\"SMILES\"].size"
   ]
  },
  {
   "cell_type": "code",
   "execution_count": 52,
   "id": "laq0DXYXM-ud",
   "metadata": {
    "colab": {
     "base_uri": "https://localhost:8080/"
    },
    "executionInfo": {
     "elapsed": 1787,
     "status": "ok",
     "timestamp": 1620514706036,
     "user": {
      "displayName": "Bruno Santos",
      "photoUrl": "",
      "userId": "08605551310692069158"
     },
     "user_tz": -60
    },
    "id": "laq0DXYXM-ud",
    "outputId": "0549587c-e8cb-4f9a-bc53-d75b7d101d93"
   },
   "outputs": [
    {
     "data": {
      "text/plain": [
       "1584663"
      ]
     },
     "execution_count": 52,
     "metadata": {
      "tags": []
     },
     "output_type": "execute_result"
    }
   ],
   "source": [
    "pd.read_csv(\"data/train.csv\")[\"SMILES\"].size"
   ]
  },
  {
   "cell_type": "markdown",
   "id": "ZTt1MwK1LQrP",
   "metadata": {
    "id": "ZTt1MwK1LQrP"
   },
   "source": [
    "Dataset resultante pode ser obtido com o seguinte código:"
   ]
  },
  {
   "cell_type": "code",
   "execution_count": null,
   "id": "U2wNE2xXLerT",
   "metadata": {
    "id": "U2wNE2xXLerT"
   },
   "outputs": [],
   "source": [
    "!pip install gdown\n",
    "!gdown 'https://drive.google.com/file/d/1wlnBI7-zyT21ib0ui44XwOYwNh7pkexi/view?usp=sharing'"
   ]
  }
 ],
 "metadata": {
  "accelerator": "GPU",
  "colab": {
   "collapsed_sections": [
    "KHxU2jshQrur",
    "2bb3502e",
    "1ebb8e7a",
    "XFOWm_1Bb3YJ",
    "8ce7890d",
    "UzsNgxxARU0H",
    "Fg07lDsERuGd"
   ],
   "name": "PropriedadesMoleculas.ipynb",
   "provenance": []
  },
  "kernelspec": {
   "display_name": "Python 3",
   "language": "python",
   "name": "python3"
  },
  "language_info": {
   "codemirror_mode": {
    "name": "ipython",
    "version": 3
   },
   "file_extension": ".py",
   "mimetype": "text/x-python",
   "name": "python",
   "nbconvert_exporter": "python",
   "pygments_lexer": "ipython3",
   "version": "3.9.4"
  }
 },
 "nbformat": 4,
 "nbformat_minor": 5
}

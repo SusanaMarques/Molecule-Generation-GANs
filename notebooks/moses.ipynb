{
 "cells": [
  {
   "cell_type": "code",
   "execution_count": 10,
   "id": "bad9d9db-e139-41b0-9343-a27d7b76f02e",
   "metadata": {},
   "outputs": [],
   "source": [
    "import pandas as pd\n",
    "\n",
    "from rdkit import Chem\n",
    "from rdkit.Chem import Descriptors, Draw"
   ]
  },
  {
   "cell_type": "code",
   "execution_count": 15,
   "id": "1fe30153-f2d5-4548-9fc6-51fd147baf07",
   "metadata": {},
   "outputs": [
    {
     "data": {
      "text/html": [
       "<div>\n",
       "<style scoped>\n",
       "    .dataframe tbody tr th:only-of-type {\n",
       "        vertical-align: middle;\n",
       "    }\n",
       "\n",
       "    .dataframe tbody tr th {\n",
       "        vertical-align: top;\n",
       "    }\n",
       "\n",
       "    .dataframe thead th {\n",
       "        text-align: right;\n",
       "    }\n",
       "</style>\n",
       "<table border=\"1\" class=\"dataframe\">\n",
       "  <thead>\n",
       "    <tr style=\"text-align: right;\">\n",
       "      <th></th>\n",
       "      <th>SMILES</th>\n",
       "    </tr>\n",
       "  </thead>\n",
       "  <tbody>\n",
       "    <tr>\n",
       "      <th>0</th>\n",
       "      <td>CCCS(=O)c1ccc2[nH]c(=NC(=O)OC)[nH]c2c1</td>\n",
       "    </tr>\n",
       "    <tr>\n",
       "      <th>1</th>\n",
       "      <td>CC(C)(C)C(=O)C(Oc1ccc(Cl)cc1)n1ccnc1</td>\n",
       "    </tr>\n",
       "    <tr>\n",
       "      <th>2</th>\n",
       "      <td>Cc1c(Cl)cccc1Nc1ncccc1C(=O)OCC(O)CO</td>\n",
       "    </tr>\n",
       "    <tr>\n",
       "      <th>3</th>\n",
       "      <td>Cn1cnc2c1c(=O)n(CC(O)CO)c(=O)n2C</td>\n",
       "    </tr>\n",
       "    <tr>\n",
       "      <th>4</th>\n",
       "      <td>CC1Oc2ccc(Cl)cc2N(CC(O)CO)C1=O</td>\n",
       "    </tr>\n",
       "    <tr>\n",
       "      <th>...</th>\n",
       "      <td>...</td>\n",
       "    </tr>\n",
       "    <tr>\n",
       "      <th>1584658</th>\n",
       "      <td>N#Cc1c(Br)cnc(N)c1Br</td>\n",
       "    </tr>\n",
       "    <tr>\n",
       "      <th>1584659</th>\n",
       "      <td>COC(=O)c1cc(CNC(=O)OC(C)(C)C)ccc1C</td>\n",
       "    </tr>\n",
       "    <tr>\n",
       "      <th>1584660</th>\n",
       "      <td>NC(=O)c1ccc2ccccc2c1Br</td>\n",
       "    </tr>\n",
       "    <tr>\n",
       "      <th>1584661</th>\n",
       "      <td>CC(=O)Nc1cccc(-c2nc3cc(C)ccc3[nH]c2=O)c1</td>\n",
       "    </tr>\n",
       "    <tr>\n",
       "      <th>1584662</th>\n",
       "      <td>CC(NC(=O)OC(C)(C)C)c1nc(CO)nn1Cc1ccccc1</td>\n",
       "    </tr>\n",
       "  </tbody>\n",
       "</table>\n",
       "<p>1584663 rows × 1 columns</p>\n",
       "</div>"
      ],
      "text/plain": [
       "                                           SMILES\n",
       "0          CCCS(=O)c1ccc2[nH]c(=NC(=O)OC)[nH]c2c1\n",
       "1            CC(C)(C)C(=O)C(Oc1ccc(Cl)cc1)n1ccnc1\n",
       "2             Cc1c(Cl)cccc1Nc1ncccc1C(=O)OCC(O)CO\n",
       "3                Cn1cnc2c1c(=O)n(CC(O)CO)c(=O)n2C\n",
       "4                  CC1Oc2ccc(Cl)cc2N(CC(O)CO)C1=O\n",
       "...                                           ...\n",
       "1584658                      N#Cc1c(Br)cnc(N)c1Br\n",
       "1584659        COC(=O)c1cc(CNC(=O)OC(C)(C)C)ccc1C\n",
       "1584660                    NC(=O)c1ccc2ccccc2c1Br\n",
       "1584661  CC(=O)Nc1cccc(-c2nc3cc(C)ccc3[nH]c2=O)c1\n",
       "1584662   CC(NC(=O)OC(C)(C)C)c1nc(CO)nn1Cc1ccccc1\n",
       "\n",
       "[1584663 rows x 1 columns]"
      ]
     },
     "execution_count": 15,
     "metadata": {},
     "output_type": "execute_result"
    }
   ],
   "source": [
    "molecules = pd.read_csv(\"../data/train.csv\")\n",
    "del molecules[\"SPLIT\"]\n",
    "molecules"
   ]
  },
  {
   "cell_type": "code",
   "execution_count": 8,
   "id": "5ae5759b-a70f-45e6-89d1-6ff38f0a4714",
   "metadata": {},
   "outputs": [
    {
     "data": {
      "image/png": "[encoded data removed]",
      "text/plain": [
       "<rdkit.Chem.rdchem.Mol at 0x7f13a1cb10a0>"
      ]
     },
     "execution_count": 8,
     "metadata": {},
     "output_type": "execute_result"
    }
   ],
   "source": [
    "mol = Chem.MolFromSmiles(molecules[\"SMILES\"][56])\n",
    "mol"
   ]
  },
  {
   "cell_type": "code",
   "execution_count": 4,
   "id": "72967d20-d41b-4e47-897d-1ead5d589a03",
   "metadata": {},
   "outputs": [
    {
     "name": "stdout",
     "output_type": "stream",
     "text": [
      "Molecular Weight:\t 302.062218904\n",
      "Solubility:\t\t 3.292900000000002\n",
      "Polar Surface Area:\t 32.67\n"
     ]
    }
   ],
   "source": [
    "molWeight = Descriptors.ExactMolWt( mol )\n",
    "print(\"Molecular Weight:\\t\", molWeight)\n",
    "\n",
    "logP = Descriptors.MolLogP( mol )\n",
    "print(\"Solubility:\\t\\t\", logP)\n",
    "\n",
    "tpsa = Descriptors.TPSA( mol )\n",
    "print(\"Polar Surface Area:\\t\", tpsa)"
   ]
  }
 ],
 "metadata": {
  "kernelspec": {
   "display_name": "Python 3.9.3 64-bit ('.venv': venv)",
   "language": "python",
   "name": "python39364bitvenvvenv98c4478689634b31b233c4b2c58d2e86"
  },
  "language_info": {
   "codemirror_mode": {
    "name": "ipython",
    "version": 3
   },
   "file_extension": ".py",
   "mimetype": "text/x-python",
   "name": "python",
   "nbconvert_exporter": "python",
   "pygments_lexer": "ipython3",
   "version": "3.9.4"
  }
 },
 "nbformat": 4,
 "nbformat_minor": 5
}
